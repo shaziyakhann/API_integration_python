{
  "cells": [
    {
      "cell_type": "markdown",
      "metadata": {
        "id": "view-in-github",
        "colab_type": "text"
      },
      "source": [
        "<a href=\"https://colab.research.google.com/github/shaziyakhann/CSA0605_DAA/blob/main/Welcome_to_Colaboratory.ipynb\" target=\"_parent\"><img src=\"https://colab.research.google.com/assets/colab-badge.svg\" alt=\"Open In Colab\"/></a>"
      ]
    },
    {
      "cell_type": "code",
      "source": [
        "n=int(input(\"enter a number: \"))\n",
        "summ=0\n",
        "temp=n\n",
        "while(n>0):\n",
        "  r=n%10\n",
        "  p=r*r*r\n",
        "  summ=summ+p\n",
        "  n=n//10\n",
        "n=temp\n",
        "if n==summ:\n",
        "  print(\"arms\")\n",
        "else:\n",
        "  print(\"no\")"
      ],
      "metadata": {
        "id": "9-vcsI3tPTLS",
        "outputId": "1f1bdb50-9072-42e5-b6cf-815cc9ccc6f3",
        "colab": {
          "base_uri": "https://localhost:8080/"
        }
      },
      "execution_count": 6,
      "outputs": [
        {
          "output_type": "stream",
          "name": "stdout",
          "text": [
            "enter a number: 12\n",
            "no\n"
          ]
        }
      ]
    }
  ],
  "metadata": {
    "colab": {
      "name": "Welcome to Colaboratory",
      "toc_visible": true,
      "provenance": [],
      "include_colab_link": true
    },
    "kernelspec": {
      "display_name": "Python 3",
      "name": "python3"
    }
  },
  "nbformat": 4,
  "nbformat_minor": 0
}