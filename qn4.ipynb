{
  "cells": [
    {
      "cell_type": "markdown",
      "metadata": {
        "id": "view-in-github",
        "colab_type": "text"
      },
      "source": [
        "<a href=\"https://colab.research.google.com/github/shaziyakhann/shaziyakhann/blob/main/qn4.ipynb\" target=\"_parent\"><img src=\"https://colab.research.google.com/assets/colab-badge.svg\" alt=\"Open In Colab\"/></a>"
      ]
    },
    {
      "cell_type": "code",
      "source": [
        "import requests\n",
        "\n",
        "def fetch_covid_statistics(region):\n",
        "    url = f\"https://disease.sh/v3/covid-19/countries/{region}\"\n",
        "\n",
        "    response = requests.get(url)\n",
        "    data = response.json()\n",
        "\n",
        "    if response.status_code == 200:\n",
        "        country = data[\"country\"]\n",
        "        cases = data[\"cases\"]\n",
        "        recovered = data[\"recovered\"]\n",
        "        deaths = data[\"deaths\"]\n",
        "\n",
        "        print(f\"COVID-19 Statistics for {country}:\")\n",
        "        print(f\"Total Cases: {cases}\")\n",
        "        print(f\"Total Recovered: {recovered}\")\n",
        "        print(f\"Total Deaths: {deaths}\")\n",
        "    else:\n",
        "        print(f\"Failed to fetch data for {region}. Error: {response.status_code}\")\n",
        "\n",
        "# Example usage\n",
        "if __name__ == \"__main__\":\n",
        "    region = input(\"Enter a country name or 'all' for global statistics: \")\n",
        "    fetch_covid_statistics(region)\n"
      ],
      "metadata": {
        "id": "uotpSgfByNz6",
        "outputId": "8bd09102-75d2-4b9f-ea03-1c1b1632261e",
        "colab": {
          "base_uri": "https://localhost:8080/"
        }
      },
      "execution_count": 2,
      "outputs": [
        {
          "output_type": "stream",
          "name": "stdout",
          "text": [
            "Enter a country name or 'all' for global statistics: india\n",
            "COVID-19 Statistics for India:\n",
            "Total Cases: 45035393\n",
            "Total Recovered: 0\n",
            "Total Deaths: 533570\n"
          ]
        }
      ]
    }
  ],
  "metadata": {
    "colab": {
      "name": "Welcome to Colaboratory",
      "toc_visible": true,
      "provenance": [],
      "include_colab_link": true
    },
    "kernelspec": {
      "display_name": "Python 3",
      "name": "python3"
    }
  },
  "nbformat": 4,
  "nbformat_minor": 0
}